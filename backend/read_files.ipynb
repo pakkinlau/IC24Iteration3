{
 "cells": [
  {
   "cell_type": "code",
   "execution_count": 112,
   "metadata": {},
   "outputs": [
    {
     "name": "stdout",
     "output_type": "stream",
     "text": [
      "                                                   0       1  2\n",
      "0         2. Testing assumptions : Type of aggregate  Type I   \n",
      "1                             CaO in the cement used    62.0  %\n",
      "2                          CaO in the aggregate used     0.2  %\n",
      "3  Combined water of hydration of cement in the h...    23.0  %\n",
      "4                                         By assay :           \n",
      "5                      CaO content by mass of sample     9.2  %\n",
      "6                :. Cement content by mass of sample    14.6  %\n",
      "7                             Aggregate/cement ratio     5.6   \n"
     ]
    }
   ],
   "source": [
    "from azure.ai.formrecognizer import DocumentAnalysisClient\n",
    "from azure.core.credentials import AzureKeyCredential\n",
    "import pandas as pd\n",
    "import numpy as np\n",
    "\n",
    "# Replace with your Azure Document Intelligence key and endpoint\n",
    "key = \"dd508fa001674a76a10c909e3268b98f\"\n",
    "endpoint = \"https://analyzedocuments.cognitiveservices.azure.com/\"\n",
    "\n",
    "# Authenticate the client with your key and endpoint\n",
    "document_analysis_client = DocumentAnalysisClient(endpoint, AzureKeyCredential(key))\n",
    "\n",
    "# Replace with the path to your lab report file\n",
    "file_path = \"training_data/class_1/20190703173714952-2.pdf\"\n",
    "\n",
    "# Open the file and send it to the Azure service\n",
    "with open(file_path, \"rb\") as f:\n",
    "    poller = document_analysis_client.begin_analyze_document(\"prebuilt-document\", document=f)\n",
    "\n",
    "# Initialize an empty list to hold data for each table\n",
    "tables = []\n",
    "\n",
    "for table_idx, table in enumerate(result.tables):\n",
    "    tbl = table.to_dict()\n",
    "    row = tbl['row_count']\n",
    "    col = tbl['column_count']\n",
    "    result_tbl = np.empty((row, col), dtype=object)\n",
    "    col_headers = []\n",
    "    row_cnt = 0\n",
    "    col_cnt = 0\n",
    "    for cell in tbl['cells']:\n",
    "        result_tbl[cell['row_index'],cell['column_index']]=str(cell['content'])\n",
    "    result_df=pd.DataFrame(result_tbl)\n",
    "    tables.append(result_df)\n",
    "    print(result_df)"
   ]
  }
 ],
 "metadata": {
  "kernelspec": {
   "display_name": "sys-trading",
   "language": "python",
   "name": "sys-trading"
  },
  "language_info": {
   "codemirror_mode": {
    "name": "ipython",
    "version": 3
   },
   "file_extension": ".py",
   "mimetype": "text/x-python",
   "name": "python",
   "nbconvert_exporter": "python",
   "pygments_lexer": "ipython3",
   "version": "3.9.16"
  }
 },
 "nbformat": 4,
 "nbformat_minor": 2
}
